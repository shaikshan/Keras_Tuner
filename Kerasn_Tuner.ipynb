{
 "cells": [
  {
   "cell_type": "code",
   "execution_count": 1,
   "id": "550c5f03",
   "metadata": {},
   "outputs": [
    {
     "name": "stdout",
     "output_type": "stream",
     "text": [
      "Requirement already satisfied: keras-tuner in c:\\users\\munna\\anaconda3\\envs\\tensorflow\\lib\\site-packages (1.1.3)\n",
      "Requirement already satisfied: numpy in c:\\users\\munna\\anaconda3\\envs\\tensorflow\\lib\\site-packages (from keras-tuner) (1.19.5)\n",
      "Requirement already satisfied: kt-legacy in c:\\users\\munna\\anaconda3\\envs\\tensorflow\\lib\\site-packages (from keras-tuner) (1.0.4)\n",
      "Requirement already satisfied: ipython in c:\\users\\munna\\anaconda3\\envs\\tensorflow\\lib\\site-packages (from keras-tuner) (7.34.0)\n",
      "Requirement already satisfied: requests in c:\\users\\munna\\anaconda3\\envs\\tensorflow\\lib\\site-packages (from keras-tuner) (2.28.1)\n",
      "Requirement already satisfied: packaging in c:\\users\\munna\\anaconda3\\envs\\tensorflow\\lib\\site-packages (from keras-tuner) (21.3)\n",
      "Requirement already satisfied: tensorboard in c:\\users\\munna\\anaconda3\\envs\\tensorflow\\lib\\site-packages (from keras-tuner) (2.11.0)\n",
      "Requirement already satisfied: colorama in c:\\users\\munna\\anaconda3\\envs\\tensorflow\\lib\\site-packages (from ipython->keras-tuner) (0.4.6)\n",
      "Requirement already satisfied: matplotlib-inline in c:\\users\\munna\\anaconda3\\envs\\tensorflow\\lib\\site-packages (from ipython->keras-tuner) (0.1.6)\n",
      "Requirement already satisfied: jedi>=0.16 in c:\\users\\munna\\anaconda3\\envs\\tensorflow\\lib\\site-packages (from ipython->keras-tuner) (0.18.2)\n",
      "Requirement already satisfied: backcall in c:\\users\\munna\\anaconda3\\envs\\tensorflow\\lib\\site-packages (from ipython->keras-tuner) (0.2.0)\n",
      "Requirement already satisfied: prompt-toolkit!=3.0.0,!=3.0.1,<3.1.0,>=2.0.0 in c:\\users\\munna\\anaconda3\\envs\\tensorflow\\lib\\site-packages (from ipython->keras-tuner) (3.0.36)\n",
      "Requirement already satisfied: pygments in c:\\users\\munna\\anaconda3\\envs\\tensorflow\\lib\\site-packages (from ipython->keras-tuner) (2.13.0)\n",
      "Requirement already satisfied: traitlets>=4.2 in c:\\users\\munna\\anaconda3\\envs\\tensorflow\\lib\\site-packages (from ipython->keras-tuner) (5.6.0)\n",
      "Requirement already satisfied: setuptools>=18.5 in c:\\users\\munna\\anaconda3\\envs\\tensorflow\\lib\\site-packages (from ipython->keras-tuner) (65.5.0)\n",
      "Requirement already satisfied: decorator in c:\\users\\munna\\anaconda3\\envs\\tensorflow\\lib\\site-packages (from ipython->keras-tuner) (5.1.1)\n",
      "Requirement already satisfied: pickleshare in c:\\users\\munna\\anaconda3\\envs\\tensorflow\\lib\\site-packages (from ipython->keras-tuner) (0.7.5)\n",
      "Requirement already satisfied: pyparsing!=3.0.5,>=2.0.2 in c:\\users\\munna\\anaconda3\\envs\\tensorflow\\lib\\site-packages (from packaging->keras-tuner) (3.0.9)\n",
      "Requirement already satisfied: urllib3<1.27,>=1.21.1 in c:\\users\\munna\\anaconda3\\envs\\tensorflow\\lib\\site-packages (from requests->keras-tuner) (1.26.13)\n",
      "Requirement already satisfied: certifi>=2017.4.17 in c:\\users\\munna\\anaconda3\\envs\\tensorflow\\lib\\site-packages (from requests->keras-tuner) (2022.9.24)\n",
      "Requirement already satisfied: charset-normalizer<3,>=2 in c:\\users\\munna\\anaconda3\\envs\\tensorflow\\lib\\site-packages (from requests->keras-tuner) (2.1.1)\n",
      "Requirement already satisfied: idna<4,>=2.5 in c:\\users\\munna\\anaconda3\\envs\\tensorflow\\lib\\site-packages (from requests->keras-tuner) (3.4)\n",
      "Requirement already satisfied: werkzeug>=1.0.1 in c:\\users\\munna\\anaconda3\\envs\\tensorflow\\lib\\site-packages (from tensorboard->keras-tuner) (2.2.2)\n",
      "Requirement already satisfied: google-auth-oauthlib<0.5,>=0.4.1 in c:\\users\\munna\\anaconda3\\envs\\tensorflow\\lib\\site-packages (from tensorboard->keras-tuner) (0.4.6)\n",
      "Requirement already satisfied: google-auth<3,>=1.6.3 in c:\\users\\munna\\anaconda3\\envs\\tensorflow\\lib\\site-packages (from tensorboard->keras-tuner) (2.15.0)\n",
      "Requirement already satisfied: tensorboard-data-server<0.7.0,>=0.6.0 in c:\\users\\munna\\anaconda3\\envs\\tensorflow\\lib\\site-packages (from tensorboard->keras-tuner) (0.6.1)\n",
      "Requirement already satisfied: markdown>=2.6.8 in c:\\users\\munna\\anaconda3\\envs\\tensorflow\\lib\\site-packages (from tensorboard->keras-tuner) (3.4.1)\n",
      "Requirement already satisfied: tensorboard-plugin-wit>=1.6.0 in c:\\users\\munna\\anaconda3\\envs\\tensorflow\\lib\\site-packages (from tensorboard->keras-tuner) (1.8.1)\n",
      "Requirement already satisfied: absl-py>=0.4 in c:\\users\\munna\\anaconda3\\envs\\tensorflow\\lib\\site-packages (from tensorboard->keras-tuner) (0.15.0)\n",
      "Requirement already satisfied: protobuf<4,>=3.9.2 in c:\\users\\munna\\anaconda3\\envs\\tensorflow\\lib\\site-packages (from tensorboard->keras-tuner) (3.20.3)\n",
      "Requirement already satisfied: wheel>=0.26 in c:\\users\\munna\\anaconda3\\envs\\tensorflow\\lib\\site-packages (from tensorboard->keras-tuner) (0.37.1)\n",
      "Requirement already satisfied: grpcio>=1.24.3 in c:\\users\\munna\\anaconda3\\envs\\tensorflow\\lib\\site-packages (from tensorboard->keras-tuner) (1.51.1)\n",
      "Requirement already satisfied: six in c:\\users\\munna\\anaconda3\\envs\\tensorflow\\lib\\site-packages (from absl-py>=0.4->tensorboard->keras-tuner) (1.15.0)\n",
      "Requirement already satisfied: pyasn1-modules>=0.2.1 in c:\\users\\munna\\anaconda3\\envs\\tensorflow\\lib\\site-packages (from google-auth<3,>=1.6.3->tensorboard->keras-tuner) (0.2.8)\n",
      "Requirement already satisfied: rsa<5,>=3.1.4 in c:\\users\\munna\\anaconda3\\envs\\tensorflow\\lib\\site-packages (from google-auth<3,>=1.6.3->tensorboard->keras-tuner) (4.9)\n",
      "Requirement already satisfied: cachetools<6.0,>=2.0.0 in c:\\users\\munna\\anaconda3\\envs\\tensorflow\\lib\\site-packages (from google-auth<3,>=1.6.3->tensorboard->keras-tuner) (5.2.0)\n",
      "Requirement already satisfied: requests-oauthlib>=0.7.0 in c:\\users\\munna\\anaconda3\\envs\\tensorflow\\lib\\site-packages (from google-auth-oauthlib<0.5,>=0.4.1->tensorboard->keras-tuner) (1.3.1)\n",
      "Requirement already satisfied: parso<0.9.0,>=0.8.0 in c:\\users\\munna\\anaconda3\\envs\\tensorflow\\lib\\site-packages (from jedi>=0.16->ipython->keras-tuner) (0.8.3)\n",
      "Requirement already satisfied: importlib-metadata>=4.4 in c:\\users\\munna\\anaconda3\\envs\\tensorflow\\lib\\site-packages (from markdown>=2.6.8->tensorboard->keras-tuner) (5.1.0)\n",
      "Requirement already satisfied: wcwidth in c:\\users\\munna\\anaconda3\\envs\\tensorflow\\lib\\site-packages (from prompt-toolkit!=3.0.0,!=3.0.1,<3.1.0,>=2.0.0->ipython->keras-tuner) (0.2.5)\n",
      "Requirement already satisfied: MarkupSafe>=2.1.1 in c:\\users\\munna\\anaconda3\\envs\\tensorflow\\lib\\site-packages (from werkzeug>=1.0.1->tensorboard->keras-tuner) (2.1.1)\n",
      "Requirement already satisfied: typing-extensions>=3.6.4 in c:\\users\\munna\\anaconda3\\envs\\tensorflow\\lib\\site-packages (from importlib-metadata>=4.4->markdown>=2.6.8->tensorboard->keras-tuner) (3.7.4.3)\n",
      "Requirement already satisfied: zipp>=0.5 in c:\\users\\munna\\anaconda3\\envs\\tensorflow\\lib\\site-packages (from importlib-metadata>=4.4->markdown>=2.6.8->tensorboard->keras-tuner) (3.11.0)\n",
      "Requirement already satisfied: pyasn1<0.5.0,>=0.4.6 in c:\\users\\munna\\anaconda3\\envs\\tensorflow\\lib\\site-packages (from pyasn1-modules>=0.2.1->google-auth<3,>=1.6.3->tensorboard->keras-tuner) (0.4.8)\n",
      "Requirement already satisfied: oauthlib>=3.0.0 in c:\\users\\munna\\anaconda3\\envs\\tensorflow\\lib\\site-packages (from requests-oauthlib>=0.7.0->google-auth-oauthlib<0.5,>=0.4.1->tensorboard->keras-tuner) (3.2.2)\n"
     ]
    }
   ],
   "source": [
    "!pip install keras-tuner"
   ]
  },
  {
   "cell_type": "markdown",
   "id": "9921cf72",
   "metadata": {},
   "source": [
    "# California Housing Dataset\n",
    "\n",
    "In this example, we are using the default dataset California Housing Dataset present in the Google colab."
   ]
  },
  {
   "cell_type": "markdown",
   "id": "f1c2289b",
   "metadata": {},
   "source": [
    "## Importing Libraries"
   ]
  },
  {
   "cell_type": "code",
   "execution_count": 2,
   "id": "dd044cc9",
   "metadata": {},
   "outputs": [
    {
     "name": "stdout",
     "output_type": "stream",
     "text": [
      "Requirement already satisfied: pandas in c:\\users\\munna\\anaconda3\\envs\\tensorflow\\lib\\site-packages (1.1.5)\n",
      "Requirement already satisfied: numpy>=1.15.4 in c:\\users\\munna\\anaconda3\\envs\\tensorflow\\lib\\site-packages (from pandas) (1.19.5)\n",
      "Requirement already satisfied: pytz>=2017.2 in c:\\users\\munna\\anaconda3\\envs\\tensorflow\\lib\\site-packages (from pandas) (2022.6)\n",
      "Requirement already satisfied: python-dateutil>=2.7.3 in c:\\users\\munna\\anaconda3\\envs\\tensorflow\\lib\\site-packages (from pandas) (2.8.2)\n",
      "Requirement already satisfied: six>=1.5 in c:\\users\\munna\\anaconda3\\envs\\tensorflow\\lib\\site-packages (from python-dateutil>=2.7.3->pandas) (1.15.0)\n",
      "Note: you may need to restart the kernel to use updated packages.\n"
     ]
    }
   ],
   "source": [
    "pip install pandas"
   ]
  },
  {
   "cell_type": "code",
   "execution_count": 7,
   "id": "938b5e27",
   "metadata": {},
   "outputs": [
    {
     "name": "stdout",
     "output_type": "stream",
     "text": [
      "Collecting scikit-learn\n",
      "  Using cached scikit_learn-1.0.2-cp37-cp37m-win_amd64.whl (7.1 MB)\n",
      "Collecting joblib>=0.11\n",
      "  Using cached joblib-1.2.0-py3-none-any.whl (297 kB)\n",
      "Collecting threadpoolctl>=2.0.0\n",
      "  Using cached threadpoolctl-3.1.0-py3-none-any.whl (14 kB)\n",
      "Requirement already satisfied: numpy>=1.14.6 in c:\\users\\munna\\anaconda3\\envs\\tensorflow\\lib\\site-packages (from scikit-learn) (1.19.5)\n",
      "Collecting scipy>=1.1.0\n",
      "  Using cached scipy-1.7.3-cp37-cp37m-win_amd64.whl (34.1 MB)\n",
      "Installing collected packages: threadpoolctl, scipy, joblib, scikit-learn\n",
      "Successfully installed joblib-1.2.0 scikit-learn-1.0.2 scipy-1.7.3 threadpoolctl-3.1.0\n",
      "Note: you may need to restart the kernel to use updated packages.\n"
     ]
    }
   ],
   "source": [
    "pip install scikit-learn"
   ]
  },
  {
   "cell_type": "code",
   "execution_count": 8,
   "id": "f2619f14",
   "metadata": {},
   "outputs": [
    {
     "name": "stdout",
     "output_type": "stream",
     "text": [
      "Requirement already satisfied: matplotlib in c:\\users\\munna\\anaconda3\\envs\\tensorflow\\lib\\site-packages (3.5.3)\n",
      "Requirement already satisfied: fonttools>=4.22.0 in c:\\users\\munna\\anaconda3\\envs\\tensorflow\\lib\\site-packages (from matplotlib) (4.38.0)\n",
      "Requirement already satisfied: pillow>=6.2.0 in c:\\users\\munna\\anaconda3\\envs\\tensorflow\\lib\\site-packages (from matplotlib) (9.3.0)\n",
      "Requirement already satisfied: numpy>=1.17 in c:\\users\\munna\\anaconda3\\envs\\tensorflow\\lib\\site-packages (from matplotlib) (1.19.5)\n",
      "Requirement already satisfied: cycler>=0.10 in c:\\users\\munna\\anaconda3\\envs\\tensorflow\\lib\\site-packages (from matplotlib) (0.11.0)\n",
      "Requirement already satisfied: packaging>=20.0 in c:\\users\\munna\\anaconda3\\envs\\tensorflow\\lib\\site-packages (from matplotlib) (21.3)\n",
      "Requirement already satisfied: pyparsing>=2.2.1 in c:\\users\\munna\\anaconda3\\envs\\tensorflow\\lib\\site-packages (from matplotlib) (3.0.9)\n",
      "Requirement already satisfied: python-dateutil>=2.7 in c:\\users\\munna\\anaconda3\\envs\\tensorflow\\lib\\site-packages (from matplotlib) (2.8.2)\n",
      "Requirement already satisfied: kiwisolver>=1.0.1 in c:\\users\\munna\\anaconda3\\envs\\tensorflow\\lib\\site-packages (from matplotlib) (1.4.4)\n",
      "Requirement already satisfied: typing-extensions in c:\\users\\munna\\anaconda3\\envs\\tensorflow\\lib\\site-packages (from kiwisolver>=1.0.1->matplotlib) (3.7.4.3)\n",
      "Requirement already satisfied: six>=1.5 in c:\\users\\munna\\anaconda3\\envs\\tensorflow\\lib\\site-packages (from python-dateutil>=2.7->matplotlib) (1.15.0)\n",
      "Note: you may need to restart the kernel to use updated packages.\n"
     ]
    }
   ],
   "source": [
    "pip install matplotlib"
   ]
  },
  {
   "cell_type": "code",
   "execution_count": 9,
   "id": "3344ce56",
   "metadata": {},
   "outputs": [
    {
     "name": "stdout",
     "output_type": "stream",
     "text": [
      "Requirement already satisfied: keras==2.6 in c:\\users\\munna\\anaconda3\\envs\\tensorflow\\lib\\site-packages (2.6.0)\n",
      "Note: you may need to restart the kernel to use updated packages.\n"
     ]
    }
   ],
   "source": [
    "pip install keras==2.6"
   ]
  },
  {
   "cell_type": "code",
   "execution_count": 11,
   "id": "e09d7c23",
   "metadata": {},
   "outputs": [
    {
     "name": "stderr",
     "output_type": "stream",
     "text": [
      "C:\\Users\\Munna\\anaconda3\\envs\\tensorflow\\lib\\site-packages\\ipykernel_launcher.py:12: DeprecationWarning: `import kerastuner` is deprecated, please use `import keras_tuner`.\n",
      "  if sys.path[0] == \"\":\n"
     ]
    }
   ],
   "source": [
    "import math\n",
    "import pandas as pd\n",
    "import tensorflow as tf\n",
    "import matplotlib.pyplot as plt\n",
    "from tensorflow.keras import Model\n",
    "from tensorflow.keras import Sequential\n",
    "from tensorflow.keras.optimizers import Adam\n",
    "from tensorflow.keras.layers import Dense,Dropout\n",
    "from tensorflow.keras.losses import MeanSquaredLogarithmicError\n",
    "from sklearn.preprocessing import StandardScaler\n",
    "from sklearn.model_selection import train_test_split\n",
    "import kerastuner as kt"
   ]
  },
  {
   "cell_type": "code",
   "execution_count": null,
   "id": "f700257a",
   "metadata": {},
   "outputs": [],
   "source": [
    "pip --version"
   ]
  },
  {
   "cell_type": "code",
   "execution_count": 16,
   "id": "eaa954f3",
   "metadata": {},
   "outputs": [],
   "source": [
    "train_df = pd.read_csv(r\"https://raw.githubusercontent.com/vtech20/keras_tuner_sample/main/california_housing_train.csv\",sep=\",\")\n",
    "test_df = pd.read_csv(r\"https://raw.githubusercontent.com/vtech20/keras_tuner_sample/main/california_housing_test.csv\",sep=\",\")"
   ]
  },
  {
   "cell_type": "code",
   "execution_count": 17,
   "id": "7051b4f4",
   "metadata": {},
   "outputs": [
    {
     "data": {
      "text/html": [
       "<div>\n",
       "<style scoped>\n",
       "    .dataframe tbody tr th:only-of-type {\n",
       "        vertical-align: middle;\n",
       "    }\n",
       "\n",
       "    .dataframe tbody tr th {\n",
       "        vertical-align: top;\n",
       "    }\n",
       "\n",
       "    .dataframe thead th {\n",
       "        text-align: right;\n",
       "    }\n",
       "</style>\n",
       "<table border=\"1\" class=\"dataframe\">\n",
       "  <thead>\n",
       "    <tr style=\"text-align: right;\">\n",
       "      <th></th>\n",
       "      <th>longitude</th>\n",
       "      <th>latitude</th>\n",
       "      <th>housing_median_age</th>\n",
       "      <th>total_rooms</th>\n",
       "      <th>total_bedrooms</th>\n",
       "      <th>population</th>\n",
       "      <th>households</th>\n",
       "      <th>median_income</th>\n",
       "      <th>median_house_value</th>\n",
       "    </tr>\n",
       "  </thead>\n",
       "  <tbody>\n",
       "    <tr>\n",
       "      <th>0</th>\n",
       "      <td>-114.31</td>\n",
       "      <td>34.19</td>\n",
       "      <td>15.0</td>\n",
       "      <td>5612.0</td>\n",
       "      <td>1283.0</td>\n",
       "      <td>1015.0</td>\n",
       "      <td>472.0</td>\n",
       "      <td>1.4936</td>\n",
       "      <td>66900.0</td>\n",
       "    </tr>\n",
       "    <tr>\n",
       "      <th>1</th>\n",
       "      <td>-114.47</td>\n",
       "      <td>34.40</td>\n",
       "      <td>19.0</td>\n",
       "      <td>7650.0</td>\n",
       "      <td>1901.0</td>\n",
       "      <td>1129.0</td>\n",
       "      <td>463.0</td>\n",
       "      <td>1.8200</td>\n",
       "      <td>80100.0</td>\n",
       "    </tr>\n",
       "    <tr>\n",
       "      <th>2</th>\n",
       "      <td>-114.56</td>\n",
       "      <td>33.69</td>\n",
       "      <td>17.0</td>\n",
       "      <td>720.0</td>\n",
       "      <td>174.0</td>\n",
       "      <td>333.0</td>\n",
       "      <td>117.0</td>\n",
       "      <td>1.6509</td>\n",
       "      <td>85700.0</td>\n",
       "    </tr>\n",
       "    <tr>\n",
       "      <th>3</th>\n",
       "      <td>-114.57</td>\n",
       "      <td>33.64</td>\n",
       "      <td>14.0</td>\n",
       "      <td>1501.0</td>\n",
       "      <td>337.0</td>\n",
       "      <td>515.0</td>\n",
       "      <td>226.0</td>\n",
       "      <td>3.1917</td>\n",
       "      <td>73400.0</td>\n",
       "    </tr>\n",
       "    <tr>\n",
       "      <th>4</th>\n",
       "      <td>-114.57</td>\n",
       "      <td>33.57</td>\n",
       "      <td>20.0</td>\n",
       "      <td>1454.0</td>\n",
       "      <td>326.0</td>\n",
       "      <td>624.0</td>\n",
       "      <td>262.0</td>\n",
       "      <td>1.9250</td>\n",
       "      <td>65500.0</td>\n",
       "    </tr>\n",
       "  </tbody>\n",
       "</table>\n",
       "</div>"
      ],
      "text/plain": [
       "   longitude  latitude  housing_median_age  total_rooms  total_bedrooms  \\\n",
       "0    -114.31     34.19                15.0       5612.0          1283.0   \n",
       "1    -114.47     34.40                19.0       7650.0          1901.0   \n",
       "2    -114.56     33.69                17.0        720.0           174.0   \n",
       "3    -114.57     33.64                14.0       1501.0           337.0   \n",
       "4    -114.57     33.57                20.0       1454.0           326.0   \n",
       "\n",
       "   population  households  median_income  median_house_value  \n",
       "0      1015.0       472.0         1.4936             66900.0  \n",
       "1      1129.0       463.0         1.8200             80100.0  \n",
       "2       333.0       117.0         1.6509             85700.0  \n",
       "3       515.0       226.0         3.1917             73400.0  \n",
       "4       624.0       262.0         1.9250             65500.0  "
      ]
     },
     "execution_count": 17,
     "metadata": {},
     "output_type": "execute_result"
    }
   ],
   "source": [
    "train_df.head()"
   ]
  },
  {
   "cell_type": "code",
   "execution_count": 18,
   "id": "b791e0de",
   "metadata": {},
   "outputs": [
    {
     "data": {
      "text/html": [
       "<div>\n",
       "<style scoped>\n",
       "    .dataframe tbody tr th:only-of-type {\n",
       "        vertical-align: middle;\n",
       "    }\n",
       "\n",
       "    .dataframe tbody tr th {\n",
       "        vertical-align: top;\n",
       "    }\n",
       "\n",
       "    .dataframe thead th {\n",
       "        text-align: right;\n",
       "    }\n",
       "</style>\n",
       "<table border=\"1\" class=\"dataframe\">\n",
       "  <thead>\n",
       "    <tr style=\"text-align: right;\">\n",
       "      <th></th>\n",
       "      <th>longitude</th>\n",
       "      <th>latitude</th>\n",
       "      <th>housing_median_age</th>\n",
       "      <th>total_rooms</th>\n",
       "      <th>total_bedrooms</th>\n",
       "      <th>population</th>\n",
       "      <th>households</th>\n",
       "      <th>median_income</th>\n",
       "      <th>median_house_value</th>\n",
       "    </tr>\n",
       "  </thead>\n",
       "  <tbody>\n",
       "    <tr>\n",
       "      <th>0</th>\n",
       "      <td>-122.05</td>\n",
       "      <td>37.37</td>\n",
       "      <td>27.0</td>\n",
       "      <td>3885.0</td>\n",
       "      <td>661.0</td>\n",
       "      <td>1537.0</td>\n",
       "      <td>606.0</td>\n",
       "      <td>6.6085</td>\n",
       "      <td>344700.0</td>\n",
       "    </tr>\n",
       "    <tr>\n",
       "      <th>1</th>\n",
       "      <td>-118.30</td>\n",
       "      <td>34.26</td>\n",
       "      <td>43.0</td>\n",
       "      <td>1510.0</td>\n",
       "      <td>310.0</td>\n",
       "      <td>809.0</td>\n",
       "      <td>277.0</td>\n",
       "      <td>3.5990</td>\n",
       "      <td>176500.0</td>\n",
       "    </tr>\n",
       "    <tr>\n",
       "      <th>2</th>\n",
       "      <td>-117.81</td>\n",
       "      <td>33.78</td>\n",
       "      <td>27.0</td>\n",
       "      <td>3589.0</td>\n",
       "      <td>507.0</td>\n",
       "      <td>1484.0</td>\n",
       "      <td>495.0</td>\n",
       "      <td>5.7934</td>\n",
       "      <td>270500.0</td>\n",
       "    </tr>\n",
       "    <tr>\n",
       "      <th>3</th>\n",
       "      <td>-118.36</td>\n",
       "      <td>33.82</td>\n",
       "      <td>28.0</td>\n",
       "      <td>67.0</td>\n",
       "      <td>15.0</td>\n",
       "      <td>49.0</td>\n",
       "      <td>11.0</td>\n",
       "      <td>6.1359</td>\n",
       "      <td>330000.0</td>\n",
       "    </tr>\n",
       "    <tr>\n",
       "      <th>4</th>\n",
       "      <td>-119.67</td>\n",
       "      <td>36.33</td>\n",
       "      <td>19.0</td>\n",
       "      <td>1241.0</td>\n",
       "      <td>244.0</td>\n",
       "      <td>850.0</td>\n",
       "      <td>237.0</td>\n",
       "      <td>2.9375</td>\n",
       "      <td>81700.0</td>\n",
       "    </tr>\n",
       "  </tbody>\n",
       "</table>\n",
       "</div>"
      ],
      "text/plain": [
       "   longitude  latitude  housing_median_age  total_rooms  total_bedrooms  \\\n",
       "0    -122.05     37.37                27.0       3885.0           661.0   \n",
       "1    -118.30     34.26                43.0       1510.0           310.0   \n",
       "2    -117.81     33.78                27.0       3589.0           507.0   \n",
       "3    -118.36     33.82                28.0         67.0            15.0   \n",
       "4    -119.67     36.33                19.0       1241.0           244.0   \n",
       "\n",
       "   population  households  median_income  median_house_value  \n",
       "0      1537.0       606.0         6.6085            344700.0  \n",
       "1       809.0       277.0         3.5990            176500.0  \n",
       "2      1484.0       495.0         5.7934            270500.0  \n",
       "3        49.0        11.0         6.1359            330000.0  \n",
       "4       850.0       237.0         2.9375             81700.0  "
      ]
     },
     "execution_count": 18,
     "metadata": {},
     "output_type": "execute_result"
    }
   ],
   "source": [
    "test_df.head()"
   ]
  },
  {
   "cell_type": "code",
   "execution_count": 19,
   "id": "5124da82",
   "metadata": {},
   "outputs": [
    {
     "name": "stdout",
     "output_type": "stream",
     "text": [
      "(17000, 9)\n",
      "(3000, 9)\n"
     ]
    }
   ],
   "source": [
    "#shape of train and test\n",
    "print(train_df.shape)\n",
    "print(test_df.shape)"
   ]
  },
  {
   "cell_type": "markdown",
   "id": "fd015d91",
   "metadata": {},
   "source": [
    "## Dataset Description"
   ]
  },
  {
   "cell_type": "code",
   "execution_count": 20,
   "id": "cf7d6eea",
   "metadata": {},
   "outputs": [
    {
     "data": {
      "text/html": [
       "<div>\n",
       "<style scoped>\n",
       "    .dataframe tbody tr th:only-of-type {\n",
       "        vertical-align: middle;\n",
       "    }\n",
       "\n",
       "    .dataframe tbody tr th {\n",
       "        vertical-align: top;\n",
       "    }\n",
       "\n",
       "    .dataframe thead th {\n",
       "        text-align: right;\n",
       "    }\n",
       "</style>\n",
       "<table border=\"1\" class=\"dataframe\">\n",
       "  <thead>\n",
       "    <tr style=\"text-align: right;\">\n",
       "      <th></th>\n",
       "      <th>longitude</th>\n",
       "      <th>latitude</th>\n",
       "      <th>housing_median_age</th>\n",
       "      <th>total_rooms</th>\n",
       "      <th>total_bedrooms</th>\n",
       "      <th>population</th>\n",
       "      <th>households</th>\n",
       "      <th>median_income</th>\n",
       "      <th>median_house_value</th>\n",
       "    </tr>\n",
       "  </thead>\n",
       "  <tbody>\n",
       "    <tr>\n",
       "      <th>count</th>\n",
       "      <td>17000.000000</td>\n",
       "      <td>17000.000000</td>\n",
       "      <td>17000.000000</td>\n",
       "      <td>17000.000000</td>\n",
       "      <td>17000.000000</td>\n",
       "      <td>17000.000000</td>\n",
       "      <td>17000.000000</td>\n",
       "      <td>17000.000000</td>\n",
       "      <td>17000.000000</td>\n",
       "    </tr>\n",
       "    <tr>\n",
       "      <th>mean</th>\n",
       "      <td>-119.562108</td>\n",
       "      <td>35.625225</td>\n",
       "      <td>28.589353</td>\n",
       "      <td>2643.664412</td>\n",
       "      <td>539.410824</td>\n",
       "      <td>1429.573941</td>\n",
       "      <td>501.221941</td>\n",
       "      <td>3.883578</td>\n",
       "      <td>207300.912353</td>\n",
       "    </tr>\n",
       "    <tr>\n",
       "      <th>std</th>\n",
       "      <td>2.005166</td>\n",
       "      <td>2.137340</td>\n",
       "      <td>12.586937</td>\n",
       "      <td>2179.947071</td>\n",
       "      <td>421.499452</td>\n",
       "      <td>1147.852959</td>\n",
       "      <td>384.520841</td>\n",
       "      <td>1.908157</td>\n",
       "      <td>115983.764387</td>\n",
       "    </tr>\n",
       "    <tr>\n",
       "      <th>min</th>\n",
       "      <td>-124.350000</td>\n",
       "      <td>32.540000</td>\n",
       "      <td>1.000000</td>\n",
       "      <td>2.000000</td>\n",
       "      <td>1.000000</td>\n",
       "      <td>3.000000</td>\n",
       "      <td>1.000000</td>\n",
       "      <td>0.499900</td>\n",
       "      <td>14999.000000</td>\n",
       "    </tr>\n",
       "    <tr>\n",
       "      <th>25%</th>\n",
       "      <td>-121.790000</td>\n",
       "      <td>33.930000</td>\n",
       "      <td>18.000000</td>\n",
       "      <td>1462.000000</td>\n",
       "      <td>297.000000</td>\n",
       "      <td>790.000000</td>\n",
       "      <td>282.000000</td>\n",
       "      <td>2.566375</td>\n",
       "      <td>119400.000000</td>\n",
       "    </tr>\n",
       "    <tr>\n",
       "      <th>50%</th>\n",
       "      <td>-118.490000</td>\n",
       "      <td>34.250000</td>\n",
       "      <td>29.000000</td>\n",
       "      <td>2127.000000</td>\n",
       "      <td>434.000000</td>\n",
       "      <td>1167.000000</td>\n",
       "      <td>409.000000</td>\n",
       "      <td>3.544600</td>\n",
       "      <td>180400.000000</td>\n",
       "    </tr>\n",
       "    <tr>\n",
       "      <th>75%</th>\n",
       "      <td>-118.000000</td>\n",
       "      <td>37.720000</td>\n",
       "      <td>37.000000</td>\n",
       "      <td>3151.250000</td>\n",
       "      <td>648.250000</td>\n",
       "      <td>1721.000000</td>\n",
       "      <td>605.250000</td>\n",
       "      <td>4.767000</td>\n",
       "      <td>265000.000000</td>\n",
       "    </tr>\n",
       "    <tr>\n",
       "      <th>max</th>\n",
       "      <td>-114.310000</td>\n",
       "      <td>41.950000</td>\n",
       "      <td>52.000000</td>\n",
       "      <td>37937.000000</td>\n",
       "      <td>6445.000000</td>\n",
       "      <td>35682.000000</td>\n",
       "      <td>6082.000000</td>\n",
       "      <td>15.000100</td>\n",
       "      <td>500001.000000</td>\n",
       "    </tr>\n",
       "  </tbody>\n",
       "</table>\n",
       "</div>"
      ],
      "text/plain": [
       "          longitude      latitude  housing_median_age   total_rooms  \\\n",
       "count  17000.000000  17000.000000        17000.000000  17000.000000   \n",
       "mean    -119.562108     35.625225           28.589353   2643.664412   \n",
       "std        2.005166      2.137340           12.586937   2179.947071   \n",
       "min     -124.350000     32.540000            1.000000      2.000000   \n",
       "25%     -121.790000     33.930000           18.000000   1462.000000   \n",
       "50%     -118.490000     34.250000           29.000000   2127.000000   \n",
       "75%     -118.000000     37.720000           37.000000   3151.250000   \n",
       "max     -114.310000     41.950000           52.000000  37937.000000   \n",
       "\n",
       "       total_bedrooms    population    households  median_income  \\\n",
       "count    17000.000000  17000.000000  17000.000000   17000.000000   \n",
       "mean       539.410824   1429.573941    501.221941       3.883578   \n",
       "std        421.499452   1147.852959    384.520841       1.908157   \n",
       "min          1.000000      3.000000      1.000000       0.499900   \n",
       "25%        297.000000    790.000000    282.000000       2.566375   \n",
       "50%        434.000000   1167.000000    409.000000       3.544600   \n",
       "75%        648.250000   1721.000000    605.250000       4.767000   \n",
       "max       6445.000000  35682.000000   6082.000000      15.000100   \n",
       "\n",
       "       median_house_value  \n",
       "count        17000.000000  \n",
       "mean        207300.912353  \n",
       "std         115983.764387  \n",
       "min          14999.000000  \n",
       "25%         119400.000000  \n",
       "50%         180400.000000  \n",
       "75%         265000.000000  \n",
       "max         500001.000000  "
      ]
     },
     "execution_count": 20,
     "metadata": {},
     "output_type": "execute_result"
    }
   ],
   "source": [
    "train_df.describe()"
   ]
  },
  {
   "cell_type": "code",
   "execution_count": 21,
   "id": "0bbea5f2",
   "metadata": {},
   "outputs": [
    {
     "data": {
      "text/html": [
       "<div>\n",
       "<style scoped>\n",
       "    .dataframe tbody tr th:only-of-type {\n",
       "        vertical-align: middle;\n",
       "    }\n",
       "\n",
       "    .dataframe tbody tr th {\n",
       "        vertical-align: top;\n",
       "    }\n",
       "\n",
       "    .dataframe thead th {\n",
       "        text-align: right;\n",
       "    }\n",
       "</style>\n",
       "<table border=\"1\" class=\"dataframe\">\n",
       "  <thead>\n",
       "    <tr style=\"text-align: right;\">\n",
       "      <th></th>\n",
       "      <th>longitude</th>\n",
       "      <th>latitude</th>\n",
       "      <th>housing_median_age</th>\n",
       "      <th>total_rooms</th>\n",
       "      <th>total_bedrooms</th>\n",
       "      <th>population</th>\n",
       "      <th>households</th>\n",
       "      <th>median_income</th>\n",
       "      <th>median_house_value</th>\n",
       "    </tr>\n",
       "  </thead>\n",
       "  <tbody>\n",
       "    <tr>\n",
       "      <th>count</th>\n",
       "      <td>3000.000000</td>\n",
       "      <td>3000.00000</td>\n",
       "      <td>3000.000000</td>\n",
       "      <td>3000.000000</td>\n",
       "      <td>3000.000000</td>\n",
       "      <td>3000.000000</td>\n",
       "      <td>3000.00000</td>\n",
       "      <td>3000.000000</td>\n",
       "      <td>3000.00000</td>\n",
       "    </tr>\n",
       "    <tr>\n",
       "      <th>mean</th>\n",
       "      <td>-119.589200</td>\n",
       "      <td>35.63539</td>\n",
       "      <td>28.845333</td>\n",
       "      <td>2599.578667</td>\n",
       "      <td>529.950667</td>\n",
       "      <td>1402.798667</td>\n",
       "      <td>489.91200</td>\n",
       "      <td>3.807272</td>\n",
       "      <td>205846.27500</td>\n",
       "    </tr>\n",
       "    <tr>\n",
       "      <th>std</th>\n",
       "      <td>1.994936</td>\n",
       "      <td>2.12967</td>\n",
       "      <td>12.555396</td>\n",
       "      <td>2155.593332</td>\n",
       "      <td>415.654368</td>\n",
       "      <td>1030.543012</td>\n",
       "      <td>365.42271</td>\n",
       "      <td>1.854512</td>\n",
       "      <td>113119.68747</td>\n",
       "    </tr>\n",
       "    <tr>\n",
       "      <th>min</th>\n",
       "      <td>-124.180000</td>\n",
       "      <td>32.56000</td>\n",
       "      <td>1.000000</td>\n",
       "      <td>6.000000</td>\n",
       "      <td>2.000000</td>\n",
       "      <td>5.000000</td>\n",
       "      <td>2.00000</td>\n",
       "      <td>0.499900</td>\n",
       "      <td>22500.00000</td>\n",
       "    </tr>\n",
       "    <tr>\n",
       "      <th>25%</th>\n",
       "      <td>-121.810000</td>\n",
       "      <td>33.93000</td>\n",
       "      <td>18.000000</td>\n",
       "      <td>1401.000000</td>\n",
       "      <td>291.000000</td>\n",
       "      <td>780.000000</td>\n",
       "      <td>273.00000</td>\n",
       "      <td>2.544000</td>\n",
       "      <td>121200.00000</td>\n",
       "    </tr>\n",
       "    <tr>\n",
       "      <th>50%</th>\n",
       "      <td>-118.485000</td>\n",
       "      <td>34.27000</td>\n",
       "      <td>29.000000</td>\n",
       "      <td>2106.000000</td>\n",
       "      <td>437.000000</td>\n",
       "      <td>1155.000000</td>\n",
       "      <td>409.50000</td>\n",
       "      <td>3.487150</td>\n",
       "      <td>177650.00000</td>\n",
       "    </tr>\n",
       "    <tr>\n",
       "      <th>75%</th>\n",
       "      <td>-118.020000</td>\n",
       "      <td>37.69000</td>\n",
       "      <td>37.000000</td>\n",
       "      <td>3129.000000</td>\n",
       "      <td>636.000000</td>\n",
       "      <td>1742.750000</td>\n",
       "      <td>597.25000</td>\n",
       "      <td>4.656475</td>\n",
       "      <td>263975.00000</td>\n",
       "    </tr>\n",
       "    <tr>\n",
       "      <th>max</th>\n",
       "      <td>-114.490000</td>\n",
       "      <td>41.92000</td>\n",
       "      <td>52.000000</td>\n",
       "      <td>30450.000000</td>\n",
       "      <td>5419.000000</td>\n",
       "      <td>11935.000000</td>\n",
       "      <td>4930.00000</td>\n",
       "      <td>15.000100</td>\n",
       "      <td>500001.00000</td>\n",
       "    </tr>\n",
       "  </tbody>\n",
       "</table>\n",
       "</div>"
      ],
      "text/plain": [
       "         longitude    latitude  housing_median_age   total_rooms  \\\n",
       "count  3000.000000  3000.00000         3000.000000   3000.000000   \n",
       "mean   -119.589200    35.63539           28.845333   2599.578667   \n",
       "std       1.994936     2.12967           12.555396   2155.593332   \n",
       "min    -124.180000    32.56000            1.000000      6.000000   \n",
       "25%    -121.810000    33.93000           18.000000   1401.000000   \n",
       "50%    -118.485000    34.27000           29.000000   2106.000000   \n",
       "75%    -118.020000    37.69000           37.000000   3129.000000   \n",
       "max    -114.490000    41.92000           52.000000  30450.000000   \n",
       "\n",
       "       total_bedrooms    population  households  median_income  \\\n",
       "count     3000.000000   3000.000000  3000.00000    3000.000000   \n",
       "mean       529.950667   1402.798667   489.91200       3.807272   \n",
       "std        415.654368   1030.543012   365.42271       1.854512   \n",
       "min          2.000000      5.000000     2.00000       0.499900   \n",
       "25%        291.000000    780.000000   273.00000       2.544000   \n",
       "50%        437.000000   1155.000000   409.50000       3.487150   \n",
       "75%        636.000000   1742.750000   597.25000       4.656475   \n",
       "max       5419.000000  11935.000000  4930.00000      15.000100   \n",
       "\n",
       "       median_house_value  \n",
       "count          3000.00000  \n",
       "mean         205846.27500  \n",
       "std          113119.68747  \n",
       "min           22500.00000  \n",
       "25%          121200.00000  \n",
       "50%          177650.00000  \n",
       "75%          263975.00000  \n",
       "max          500001.00000  "
      ]
     },
     "execution_count": 21,
     "metadata": {},
     "output_type": "execute_result"
    }
   ],
   "source": [
    "test_df.describe()"
   ]
  },
  {
   "cell_type": "markdown",
   "id": "33221e15",
   "metadata": {},
   "source": [
    "The distribution of the train and test are pretty same"
   ]
  },
  {
   "cell_type": "markdown",
   "id": "2bd62df0",
   "metadata": {},
   "source": [
    "## Null value check"
   ]
  },
  {
   "cell_type": "code",
   "execution_count": 23,
   "id": "0d7db093",
   "metadata": {},
   "outputs": [
    {
     "data": {
      "text/plain": [
       "longitude             0\n",
       "latitude              0\n",
       "housing_median_age    0\n",
       "total_rooms           0\n",
       "total_bedrooms        0\n",
       "population            0\n",
       "households            0\n",
       "median_income         0\n",
       "median_house_value    0\n",
       "dtype: int64"
      ]
     },
     "execution_count": 23,
     "metadata": {},
     "output_type": "execute_result"
    }
   ],
   "source": [
    "train_df.isnull().sum()"
   ]
  },
  {
   "cell_type": "code",
   "execution_count": 24,
   "id": "e7277b1b",
   "metadata": {},
   "outputs": [
    {
     "data": {
      "text/plain": [
       "longitude             0\n",
       "latitude              0\n",
       "housing_median_age    0\n",
       "total_rooms           0\n",
       "total_bedrooms        0\n",
       "population            0\n",
       "households            0\n",
       "median_income         0\n",
       "median_house_value    0\n",
       "dtype: int64"
      ]
     },
     "execution_count": 24,
     "metadata": {},
     "output_type": "execute_result"
    }
   ],
   "source": [
    "test_df.isnull().sum()"
   ]
  },
  {
   "cell_type": "markdown",
   "id": "6d32f9c1",
   "metadata": {},
   "source": [
    "## Split data into the dependent and independent features"
   ]
  },
  {
   "cell_type": "code",
   "execution_count": 25,
   "id": "18d5f27f",
   "metadata": {},
   "outputs": [],
   "source": [
    "TARGET_FEATURE = 'median_house_value'"
   ]
  },
  {
   "cell_type": "code",
   "execution_count": 26,
   "id": "a33087d4",
   "metadata": {},
   "outputs": [],
   "source": [
    "x_train,y_train = train_df.drop(TARGET_FEATURE,axis=1), train_df[[TARGET_FEATURE]]\n",
    "x_test,y_test = test_df.drop(TARGET_FEATURE,axis=1),test_df[[TARGET_FEATURE]]"
   ]
  },
  {
   "cell_type": "markdown",
   "id": "cc170c54",
   "metadata": {},
   "source": [
    "## Feature Scaling"
   ]
  },
  {
   "cell_type": "code",
   "execution_count": 27,
   "id": "76c72dc0",
   "metadata": {},
   "outputs": [],
   "source": [
    "sc = StandardScaler()\n",
    "x_train = sc.fit_transform(x_train)\n",
    "x_test = sc.transform(x_test)"
   ]
  },
  {
   "cell_type": "markdown",
   "id": "0ac14ca5",
   "metadata": {},
   "source": [
    "## Keras Tuner\n",
    "\n",
    "An open-source Python library called Keras Tuner was created specifically for adjusting the hyperparameters of artificial neural networks. Currently, the Keras tuner supports four different types of tuners or algorithms:\n",
    "\n",
    "   + Bayesian Optimization\n",
    "   + Hyperband\n",
    "   + Sklearn\n",
    "   + Random Search\n",
    "The Hyper model is the one you want to tune.\n",
    "\n",
    "   + Using the model-building feature we can enable this tuning feature\n",
    "\n",
    "We are going to build the ann with 4 layers\n",
    "\n",
    "   1. Input layer\n",
    "   2. Hidden layer 1\n",
    "   3. Hidden layer 2\n",
    "   4. Output Layer\n",
    "unit1, unit2, unit3 will have the range between 25 to 512 with step 32\n",
    "\n",
    "These will be apply to input layer and hidden layers\n",
    "\n",
    "The learning rate will be picked up based on given inputs and hence we are use choice method to perform that action\n",
    "\n",
    "Since this is the regression problem, we are using 'linear' activation function in the output layer. on the hidden layers we are using 'relu'.\n",
    "\n",
    "For weight updation, we are using adam optimizers and the loss will be MSLE (Mean Squarred Log Error)"
   ]
  },
  {
   "cell_type": "code",
   "execution_count": 28,
   "id": "1201a499",
   "metadata": {},
   "outputs": [],
   "source": [
    "msle = MeanSquaredLogarithmicError()\n",
    "\n",
    "def build_annmodel(hp):\n",
    "    model = tf.keras.Sequential()\n",
    "    \n",
    "    units1 = hp.Int('units1',min_value=25,max_value=512, step=32)\n",
    "    units2 = hp.Int('units2',min_value=25,max_value=512, step=32)\n",
    "    units3 = hp.Int('units3',min_value=25,max_value=512, step=32)\n",
    "    model.add(Dense(units=units1,activation='relu'))\n",
    "    model.add(tf.keras.layers.Dense(units=units2,activation='relu'))\n",
    "    model.add(tf.keras.layers.Dense(units=units3,activation='relu'))\n",
    "    model.add(Dense(1,kernel_initializer='normal',activation='linear'))\n",
    "    \n",
    "    hp_learning_rate = hp.Choice('learning_rate',values=[1e-2,1e-3,1e-4])\n",
    "    \n",
    "    model.compile(\n",
    "    optimizer=tf.keras.optimizers.Adam(learning_rate=hp_learning_rate),\n",
    "    loss=msle,\n",
    "    metrics=[msle]\n",
    "    )\n",
    "    \n",
    "    return model\n",
    "    \n",
    "    "
   ]
  },
  {
   "cell_type": "markdown",
   "id": "40957f5e",
   "metadata": {},
   "source": [
    " \n",
    "In order to get a high-performing model quickly, the Hyperband tuning algorithm makes use of adaptive resource allocation and early-stopping."
   ]
  },
  {
   "cell_type": "code",
   "execution_count": 29,
   "id": "3ea986cc",
   "metadata": {},
   "outputs": [],
   "source": [
    "# HyperBand algorithm from keras tuner\n",
    "\n",
    "tuner = kt.Hyperband(\n",
    "    build_annmodel,\n",
    "    objective=\"val_mean_squared_logarithmic_error\",\n",
    "    max_epochs=10,\n",
    "    directory = 'keras_tuner_dir',\n",
    "    project_name = 'keras_tuner_demo'\n",
    "        )"
   ]
  },
  {
   "cell_type": "code",
   "execution_count": 30,
   "id": "0ba7c1b3",
   "metadata": {},
   "outputs": [
    {
     "name": "stdout",
     "output_type": "stream",
     "text": [
      "Trial 30 Complete [00h 00m 18s]\n",
      "val_mean_squared_logarithmic_error: 6.896678447723389\n",
      "\n",
      "Best val_mean_squared_logarithmic_error So Far: 0.1084776446223259\n",
      "Total elapsed time: 00h 04m 32s\n",
      "INFO:tensorflow:Oracle triggered exit\n"
     ]
    }
   ],
   "source": [
    "tuner.search(x_train,y_train,epochs=10,validation_split = 0.2)"
   ]
  },
  {
   "cell_type": "markdown",
   "id": "0cb3d3bd",
   "metadata": {},
   "source": [
    "## Best hyper paremeters"
   ]
  },
  {
   "cell_type": "code",
   "execution_count": 31,
   "id": "b07ee450",
   "metadata": {},
   "outputs": [
    {
     "name": "stdout",
     "output_type": "stream",
     "text": [
      "units1 473\n",
      "units2 217\n",
      "units3 217\n",
      "learning_rate 0.01\n"
     ]
    }
   ],
   "source": [
    "for p in ['units1','units2','units3','learning_rate']:\n",
    "    print(p,tuner.get_best_hyperparameters()[0].get(p))"
   ]
  },
  {
   "cell_type": "markdown",
   "id": "d6969ecb",
   "metadata": {},
   "source": [
    "## Model Evaluation"
   ]
  },
  {
   "cell_type": "code",
   "execution_count": 32,
   "id": "381445e1",
   "metadata": {},
   "outputs": [
    {
     "data": {
      "text/plain": [
       "<keras_tuner.engine.hyperparameters.HyperParameters at 0x1952d75b908>"
      ]
     },
     "execution_count": 32,
     "metadata": {},
     "output_type": "execute_result"
    }
   ],
   "source": [
    "best_hps = tuner.get_best_hyperparameters(num_trials=1)[0]\n",
    "best_hps"
   ]
  },
  {
   "cell_type": "code",
   "execution_count": 35,
   "id": "9e2e243a",
   "metadata": {},
   "outputs": [],
   "source": [
    "model = tuner.hypermodel.build(best_hps)"
   ]
  },
  {
   "cell_type": "code",
   "execution_count": 36,
   "id": "05836285",
   "metadata": {},
   "outputs": [
    {
     "name": "stdout",
     "output_type": "stream",
     "text": [
      "Epoch 1/50\n",
      "425/425 [==============================] - 2s 3ms/step - loss: 2.6821 - mean_squared_logarithmic_error: 2.6821 - val_loss: 0.3854 - val_mean_squared_logarithmic_error: 0.3866\n",
      "Epoch 2/50\n",
      "425/425 [==============================] - 1s 3ms/step - loss: 0.1620 - mean_squared_logarithmic_error: 0.1620 - val_loss: 0.1881 - val_mean_squared_logarithmic_error: 0.1916\n",
      "Epoch 3/50\n",
      "425/425 [==============================] - 1s 2ms/step - loss: 0.1120 - mean_squared_logarithmic_error: 0.1120 - val_loss: 0.1328 - val_mean_squared_logarithmic_error: 0.1354\n",
      "Epoch 4/50\n",
      "425/425 [==============================] - 1s 3ms/step - loss: 0.0987 - mean_squared_logarithmic_error: 0.0987 - val_loss: 0.1246 - val_mean_squared_logarithmic_error: 0.1274\n",
      "Epoch 5/50\n",
      "425/425 [==============================] - 1s 3ms/step - loss: 0.0942 - mean_squared_logarithmic_error: 0.0942 - val_loss: 0.1218 - val_mean_squared_logarithmic_error: 0.1246\n",
      "Epoch 6/50\n",
      "425/425 [==============================] - 2s 5ms/step - loss: 0.0917 - mean_squared_logarithmic_error: 0.0917 - val_loss: 0.1151 - val_mean_squared_logarithmic_error: 0.1175\n",
      "Epoch 7/50\n",
      "425/425 [==============================] - 2s 5ms/step - loss: 0.0910 - mean_squared_logarithmic_error: 0.0910 - val_loss: 0.1144 - val_mean_squared_logarithmic_error: 0.1173\n",
      "Epoch 8/50\n",
      "425/425 [==============================] - 2s 5ms/step - loss: 0.0908 - mean_squared_logarithmic_error: 0.0908 - val_loss: 0.1106 - val_mean_squared_logarithmic_error: 0.1131\n",
      "Epoch 9/50\n",
      "425/425 [==============================] - 2s 5ms/step - loss: 0.0895 - mean_squared_logarithmic_error: 0.0895 - val_loss: 0.1062 - val_mean_squared_logarithmic_error: 0.1087\n",
      "Epoch 10/50\n",
      "425/425 [==============================] - 2s 5ms/step - loss: 0.0887 - mean_squared_logarithmic_error: 0.0887 - val_loss: 0.1076 - val_mean_squared_logarithmic_error: 0.1095\n",
      "Epoch 11/50\n",
      "425/425 [==============================] - 2s 4ms/step - loss: 0.0880 - mean_squared_logarithmic_error: 0.0880 - val_loss: 0.1108 - val_mean_squared_logarithmic_error: 0.1138\n",
      "Epoch 12/50\n",
      "425/425 [==============================] - 1s 3ms/step - loss: 0.0882 - mean_squared_logarithmic_error: 0.0882 - val_loss: 0.1064 - val_mean_squared_logarithmic_error: 0.1088\n",
      "Epoch 13/50\n",
      "425/425 [==============================] - 1s 3ms/step - loss: 0.0866 - mean_squared_logarithmic_error: 0.0866 - val_loss: 0.0935 - val_mean_squared_logarithmic_error: 0.0950\n",
      "Epoch 14/50\n",
      "425/425 [==============================] - 1s 3ms/step - loss: 0.0858 - mean_squared_logarithmic_error: 0.0858 - val_loss: 0.1127 - val_mean_squared_logarithmic_error: 0.1154\n",
      "Epoch 15/50\n",
      "425/425 [==============================] - 1s 3ms/step - loss: 0.0848 - mean_squared_logarithmic_error: 0.0848 - val_loss: 0.1035 - val_mean_squared_logarithmic_error: 0.1048\n",
      "Epoch 16/50\n",
      "425/425 [==============================] - 1s 3ms/step - loss: 0.0839 - mean_squared_logarithmic_error: 0.0839 - val_loss: 0.0954 - val_mean_squared_logarithmic_error: 0.0962\n",
      "Epoch 17/50\n",
      "425/425 [==============================] - 1s 3ms/step - loss: 0.0835 - mean_squared_logarithmic_error: 0.0835 - val_loss: 0.0992 - val_mean_squared_logarithmic_error: 0.1002\n",
      "Epoch 18/50\n",
      "425/425 [==============================] - 1s 4ms/step - loss: 0.0829 - mean_squared_logarithmic_error: 0.0829 - val_loss: 0.0945 - val_mean_squared_logarithmic_error: 0.0955\n",
      "Epoch 19/50\n",
      "425/425 [==============================] - 1s 3ms/step - loss: 0.0810 - mean_squared_logarithmic_error: 0.0810 - val_loss: 0.0984 - val_mean_squared_logarithmic_error: 0.0993\n",
      "Epoch 20/50\n",
      "425/425 [==============================] - 1s 3ms/step - loss: 0.0793 - mean_squared_logarithmic_error: 0.0793 - val_loss: 0.0993 - val_mean_squared_logarithmic_error: 0.1005\n",
      "Epoch 21/50\n",
      "425/425 [==============================] - 1s 3ms/step - loss: 0.0777 - mean_squared_logarithmic_error: 0.0777 - val_loss: 0.1014 - val_mean_squared_logarithmic_error: 0.1021\n",
      "Epoch 22/50\n",
      "425/425 [==============================] - 1s 3ms/step - loss: 0.0760 - mean_squared_logarithmic_error: 0.0760 - val_loss: 0.1112 - val_mean_squared_logarithmic_error: 0.1130\n",
      "Epoch 23/50\n",
      "425/425 [==============================] - 1s 3ms/step - loss: 0.0738 - mean_squared_logarithmic_error: 0.0738 - val_loss: 0.1216 - val_mean_squared_logarithmic_error: 0.1248\n",
      "Epoch 24/50\n",
      "425/425 [==============================] - 1s 2ms/step - loss: 0.0723 - mean_squared_logarithmic_error: 0.0723 - val_loss: 0.1090 - val_mean_squared_logarithmic_error: 0.1107\n",
      "Epoch 25/50\n",
      "425/425 [==============================] - 1s 3ms/step - loss: 0.0709 - mean_squared_logarithmic_error: 0.0709 - val_loss: 0.1080 - val_mean_squared_logarithmic_error: 0.1097\n",
      "Epoch 26/50\n",
      "425/425 [==============================] - 1s 3ms/step - loss: 0.0695 - mean_squared_logarithmic_error: 0.0695 - val_loss: 0.1123 - val_mean_squared_logarithmic_error: 0.1151\n",
      "Epoch 27/50\n",
      "425/425 [==============================] - 1s 3ms/step - loss: 0.0684 - mean_squared_logarithmic_error: 0.0684 - val_loss: 0.1093 - val_mean_squared_logarithmic_error: 0.1128\n",
      "Epoch 28/50\n",
      "425/425 [==============================] - 1s 3ms/step - loss: 0.0684 - mean_squared_logarithmic_error: 0.0684 - val_loss: 0.1077 - val_mean_squared_logarithmic_error: 0.1103\n",
      "Epoch 29/50\n",
      "425/425 [==============================] - 2s 5ms/step - loss: 0.0664 - mean_squared_logarithmic_error: 0.0664 - val_loss: 0.1248 - val_mean_squared_logarithmic_error: 0.1285\n",
      "Epoch 30/50\n",
      "425/425 [==============================] - 1s 3ms/step - loss: 0.0655 - mean_squared_logarithmic_error: 0.0655 - val_loss: 0.1313 - val_mean_squared_logarithmic_error: 0.1353\n",
      "Epoch 31/50\n",
      "425/425 [==============================] - 1s 3ms/step - loss: 0.0658 - mean_squared_logarithmic_error: 0.0658 - val_loss: 0.1242 - val_mean_squared_logarithmic_error: 0.1277\n",
      "Epoch 32/50\n",
      "425/425 [==============================] - 2s 4ms/step - loss: 0.0659 - mean_squared_logarithmic_error: 0.0659 - val_loss: 0.1154 - val_mean_squared_logarithmic_error: 0.1186\n",
      "Epoch 33/50\n",
      "425/425 [==============================] - 2s 5ms/step - loss: 0.0648 - mean_squared_logarithmic_error: 0.0648 - val_loss: 0.1233 - val_mean_squared_logarithmic_error: 0.1266\n",
      "Epoch 34/50\n",
      "425/425 [==============================] - 2s 5ms/step - loss: 0.0642 - mean_squared_logarithmic_error: 0.0642 - val_loss: 0.1278 - val_mean_squared_logarithmic_error: 0.1318\n",
      "Epoch 35/50\n",
      "425/425 [==============================] - 2s 5ms/step - loss: 0.0633 - mean_squared_logarithmic_error: 0.0633 - val_loss: 0.1072 - val_mean_squared_logarithmic_error: 0.1089\n",
      "Epoch 36/50\n",
      "425/425 [==============================] - 2s 6ms/step - loss: 0.0647 - mean_squared_logarithmic_error: 0.0647 - val_loss: 0.1200 - val_mean_squared_logarithmic_error: 0.1234\n",
      "Epoch 37/50\n",
      "425/425 [==============================] - 2s 6ms/step - loss: 0.0634 - mean_squared_logarithmic_error: 0.0634 - val_loss: 0.1165 - val_mean_squared_logarithmic_error: 0.1197\n",
      "Epoch 38/50\n",
      "425/425 [==============================] - 2s 6ms/step - loss: 0.0629 - mean_squared_logarithmic_error: 0.0629 - val_loss: 0.1117 - val_mean_squared_logarithmic_error: 0.1150\n",
      "Epoch 39/50\n",
      "425/425 [==============================] - 2s 6ms/step - loss: 0.0617 - mean_squared_logarithmic_error: 0.0617 - val_loss: 0.1114 - val_mean_squared_logarithmic_error: 0.1143\n",
      "Epoch 40/50\n",
      "425/425 [==============================] - 2s 5ms/step - loss: 0.0618 - mean_squared_logarithmic_error: 0.0618 - val_loss: 0.1019 - val_mean_squared_logarithmic_error: 0.1046\n",
      "Epoch 41/50\n",
      "425/425 [==============================] - 1s 3ms/step - loss: 0.0610 - mean_squared_logarithmic_error: 0.0610 - val_loss: 0.1154 - val_mean_squared_logarithmic_error: 0.1187\n",
      "Epoch 42/50\n",
      "425/425 [==============================] - 1s 2ms/step - loss: 0.0610 - mean_squared_logarithmic_error: 0.0610 - val_loss: 0.1015 - val_mean_squared_logarithmic_error: 0.1044\n",
      "Epoch 43/50\n",
      "425/425 [==============================] - 2s 6ms/step - loss: 0.0604 - mean_squared_logarithmic_error: 0.0604 - val_loss: 0.1095 - val_mean_squared_logarithmic_error: 0.1122\n",
      "Epoch 44/50\n",
      "425/425 [==============================] - 1s 3ms/step - loss: 0.0602 - mean_squared_logarithmic_error: 0.0602 - val_loss: 0.1023 - val_mean_squared_logarithmic_error: 0.1041\n"
     ]
    },
    {
     "name": "stdout",
     "output_type": "stream",
     "text": [
      "Epoch 45/50\n",
      "425/425 [==============================] - 2s 5ms/step - loss: 0.0600 - mean_squared_logarithmic_error: 0.0600 - val_loss: 0.1080 - val_mean_squared_logarithmic_error: 0.1113\n",
      "Epoch 46/50\n",
      "425/425 [==============================] - 2s 5ms/step - loss: 0.0591 - mean_squared_logarithmic_error: 0.0591 - val_loss: 0.1051 - val_mean_squared_logarithmic_error: 0.1083\n",
      "Epoch 47/50\n",
      "425/425 [==============================] - 1s 3ms/step - loss: 0.0589 - mean_squared_logarithmic_error: 0.0589 - val_loss: 0.1123 - val_mean_squared_logarithmic_error: 0.1154\n",
      "Epoch 48/50\n",
      "425/425 [==============================] - 2s 5ms/step - loss: 0.0598 - mean_squared_logarithmic_error: 0.0598 - val_loss: 0.1197 - val_mean_squared_logarithmic_error: 0.1235\n",
      "Epoch 49/50\n",
      "425/425 [==============================] - 2s 5ms/step - loss: 0.0586 - mean_squared_logarithmic_error: 0.0586 - val_loss: 0.1007 - val_mean_squared_logarithmic_error: 0.1035\n",
      "Epoch 50/50\n",
      "425/425 [==============================] - 1s 2ms/step - loss: 0.0583 - mean_squared_logarithmic_error: 0.0583 - val_loss: 0.1053 - val_mean_squared_logarithmic_error: 0.1080\n"
     ]
    }
   ],
   "source": [
    "history = model.fit(x_train,y_train,epochs=50,validation_split=0.2 )"
   ]
  },
  {
   "cell_type": "code",
   "execution_count": null,
   "id": "e3c18cab",
   "metadata": {},
   "outputs": [],
   "source": []
  }
 ],
 "metadata": {
  "kernelspec": {
   "display_name": "Python 3 (ipykernel)",
   "language": "python",
   "name": "python3"
  },
  "language_info": {
   "codemirror_mode": {
    "name": "ipython",
    "version": 3
   },
   "file_extension": ".py",
   "mimetype": "text/x-python",
   "name": "python",
   "nbconvert_exporter": "python",
   "pygments_lexer": "ipython3",
   "version": "3.7.0"
  }
 },
 "nbformat": 4,
 "nbformat_minor": 5
}
